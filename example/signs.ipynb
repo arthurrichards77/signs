{
 "cells": [
  {
   "cell_type": "code",
   "execution_count": 4,
   "metadata": {},
   "outputs": [
    {
     "name": "stdout",
     "output_type": "stream",
     "text": [
      "['S', '144', '0', '92', '12', '110', '98', '49', '1', '3', '3', '2', '0']\n",
      "['S', '72', '8', '0', '0', '64', '0', '88', '88', '0', '0', '6', '0']\n",
      "['S', '0', '0', '2', '2', '32', '0', '5', '4', '64', '64', '5', '5']\n",
      "['S', '250', '50', '74', '64', '2', '2', '100', '68', '2', '2', '2', '2']\n",
      "['S', '72', '8', '0', '0', '64', '0', '88', '88', '0', '0', '6', '0']\n",
      "['S', '12', '0', '19', '1', '115', '97', '16', '16', '0', '0', '3', '2']\n",
      "['S', '38', '4', '11', '8', '126', '98', '80', '80', '88', '64', '4', '0']\n",
      "['S', '0', '0', '89', '0', '73', '8', '15', '6', '0', '0', '6', '0']\n",
      "['S', '40', '40', '11', '1', '58', '0', '37', '4', '120', '120', '7', '3']\n",
      "['S', '244', '192', '113', '97', '20', '20', '25', '0', '108', '76', '4', '0']\n",
      "['S', '212', '128', '33', '1', '101', '101', '98', '64', '44', '0', '6', '2']\n",
      "[[144, 0, 92, 12, 110, 98, 49, 1, 3, 3, 2, 0], [72, 8, 0, 0, 64, 0, 88, 88, 0, 0, 6, 0], [0, 0, 2, 2, 32, 0, 5, 4, 64, 64, 5, 5], [250, 50, 74, 64, 2, 2, 100, 68, 2, 2, 2, 2], [72, 8, 0, 0, 64, 0, 88, 88, 0, 0, 6, 0], [12, 0, 19, 1, 115, 97, 16, 16, 0, 0, 3, 2], [38, 4, 11, 8, 126, 98, 80, 80, 88, 64, 4, 0], [0, 0, 89, 0, 73, 8, 15, 6, 0, 0, 6, 0], [40, 40, 11, 1, 58, 0, 37, 4, 120, 120, 7, 3], [244, 192, 113, 97, 20, 20, 25, 0, 108, 76, 4, 0], [212, 128, 33, 1, 101, 101, 98, 64, 44, 0, 6, 2]]\n"
     ]
    }
   ],
   "source": [
    "import csv\n",
    "signdata = []\n",
    "with open('res_1134_011_000155_3519536.csv', 'r') as csvfile:\n",
    "    signreader = csv.reader(csvfile, delimiter=',')\n",
    "    for row in signreader:\n",
    "        print(row)\n",
    "        signdata.append([int(v) for v in row[1:]])\n",
    "print(signdata)"
   ]
  },
  {
   "cell_type": "code",
   "execution_count": 6,
   "metadata": {},
   "outputs": [],
   "source": [
    "def gray(x):\n",
    "    return (x ^ (x>>1))"
   ]
  },
  {
   "cell_type": "code",
   "execution_count": 22,
   "metadata": {},
   "outputs": [
    {
     "name": "stdout",
     "output_type": "stream",
     "text": [
      "[0, 0, 0, 0, 0, 0, 0, 0, 0, 0]\n"
     ]
    }
   ],
   "source": [
    "x_sign = []\n",
    "y_sign = []\n",
    "xd_sign = []\n",
    "yd_sign = []\n",
    "s_id = [0,0]\n",
    "s_xo = [0,0]\n",
    "s_yo = [0,0]\n",
    "s_xd = [0,0]\n",
    "s_yd = [0,0]\n",
    "s = s_id + s_xo + s_yo + s_xd + s_yd\n",
    "#s = signdata[0]\n",
    "print(s)\n",
    "for x in range(128):\n",
    "    for y in range(128):\n",
    "        if (gray(x)&s[2])^s[3]==0:\n",
    "            if (gray(y)&s[4])^s[5]==0:\n",
    "                x_sign.append(x)\n",
    "                y_sign.append(y)\n",
    "        if (gray(x)&s[6])^s[7]==0:\n",
    "            if (gray(y)&s[8])^s[9]==0:\n",
    "                xd_sign.append(x)\n",
    "                yd_sign.append(y)"
   ]
  },
  {
   "cell_type": "code",
   "execution_count": 23,
   "metadata": {},
   "outputs": [
    {
     "data": {
      "image/png": "[encoded data removed]",
      "text/plain": [
       "<matplotlib.figure.Figure at 0x7f369adb5b70>"
      ]
     },
     "metadata": {
      "needs_background": "light"
     },
     "output_type": "display_data"
    }
   ],
   "source": [
    "import matplotlib.pyplot as plt\n",
    "fig = plt.figure()\n",
    "ax1 = fig.add_subplot(1,2,1)\n",
    "ax1.plot(x_sign,y_sign,'c+')\n",
    "ax2 = fig.add_subplot(1,2,2)\n",
    "ax2.plot(xd_sign,yd_sign,'rx')\n",
    "plt.show()"
   ]
  }
 ],
 "metadata": {
  "kernelspec": {
   "display_name": "Python 3",
   "language": "python",
   "name": "python3"
  },
  "language_info": {
   "codemirror_mode": {
    "name": "ipython",
    "version": 3
   },
   "file_extension": ".py",
   "mimetype": "text/x-python",
   "name": "python",
   "nbconvert_exporter": "python",
   "pygments_lexer": "ipython3",
   "version": "3.6.9"
  }
 },
 "nbformat": 4,
 "nbformat_minor": 4
}
